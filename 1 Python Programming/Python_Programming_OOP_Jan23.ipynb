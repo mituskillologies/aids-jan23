{
 "cells": [
  {
   "cell_type": "markdown",
   "id": "61b01fbe",
   "metadata": {},
   "source": [
    "### Class definition"
   ]
  },
  {
   "cell_type": "code",
   "execution_count": 5,
   "id": "d5a926d1",
   "metadata": {},
   "outputs": [],
   "source": [
    "class Person:                  # Class name\n",
    "    def __init__(self):        # Constructor\n",
    "        self.name = 'Tushar'   # instance variables\n",
    "        self.marks = 67.89\n",
    "    def show(self):            # method of class\n",
    "        print('Your data:')\n",
    "        print(self.name, self.marks)\n",
    "    def check(self):\n",
    "        if self.marks >= 60:\n",
    "            print('First Class')\n",
    "        else:\n",
    "            print('NO First Class')"
   ]
  },
  {
   "cell_type": "code",
   "execution_count": 3,
   "id": "46bf905c",
   "metadata": {},
   "outputs": [
    {
     "name": "stdout",
     "output_type": "stream",
     "text": [
      "Your data:\n",
      "Tushar 67.89\n"
     ]
    }
   ],
   "source": [
    "# Create the object\n",
    "p = Person()\n",
    "p.show()"
   ]
  },
  {
   "cell_type": "code",
   "execution_count": 4,
   "id": "67b03cbd",
   "metadata": {},
   "outputs": [
    {
     "name": "stdout",
     "output_type": "stream",
     "text": [
      "First Class\n"
     ]
    }
   ],
   "source": [
    "p.check()"
   ]
  },
  {
   "cell_type": "code",
   "execution_count": 9,
   "id": "a5b061bd",
   "metadata": {},
   "outputs": [
    {
     "name": "stdout",
     "output_type": "stream",
     "text": [
      "Your data:\n",
      "Sanjay 59.37\n",
      "NO First Class\n"
     ]
    }
   ],
   "source": [
    "# Create another object\n",
    "\n",
    "p1 = Person()\n",
    "\n",
    "p1.name = 'Sanjay'\n",
    "p1.marks = 59.37\n",
    "\n",
    "p1.show()\n",
    "p1.check()"
   ]
  },
  {
   "cell_type": "markdown",
   "id": "47107b1c",
   "metadata": {},
   "source": [
    "### Use of constructor"
   ]
  },
  {
   "cell_type": "code",
   "execution_count": 11,
   "id": "d6a39043",
   "metadata": {},
   "outputs": [],
   "source": [
    "class Person:                  # Class name\n",
    "    def __init__(self,n, m):        # Constructor\n",
    "        self.name = n          # instance variables\n",
    "        self.marks = m\n",
    "    def show(self):            # method of class\n",
    "        print('Your data:')\n",
    "        print(self.name, self.marks)\n",
    "    def check(self):\n",
    "        if self.marks >= 60:\n",
    "            print('First Class')\n",
    "        else:\n",
    "            print('NO First Class')"
   ]
  },
  {
   "cell_type": "code",
   "execution_count": 16,
   "id": "4c4161a4",
   "metadata": {},
   "outputs": [
    {
     "name": "stdout",
     "output_type": "stream",
     "text": [
      "Your data:\n",
      "Ajay 78.45\n",
      "Your data:\n",
      "Priya Hello\n"
     ]
    }
   ],
   "source": [
    "p1 = Person('Ajay', 78.45)\n",
    "p1.show()\n",
    "\n",
    "p2 = Person('Priya', 56.77)\n",
    "p2.show()"
   ]
  },
  {
   "cell_type": "code",
   "execution_count": 14,
   "id": "8ae59704",
   "metadata": {},
   "outputs": [
    {
     "name": "stdout",
     "output_type": "stream",
     "text": [
      "First Class\n"
     ]
    }
   ],
   "source": [
    "p1.check()"
   ]
  },
  {
   "cell_type": "code",
   "execution_count": 15,
   "id": "8e0106bc",
   "metadata": {},
   "outputs": [
    {
     "name": "stdout",
     "output_type": "stream",
     "text": [
      "First Class\n"
     ]
    }
   ],
   "source": [
    "p2.check()"
   ]
  },
  {
   "cell_type": "code",
   "execution_count": 17,
   "id": "5c7999bc",
   "metadata": {},
   "outputs": [],
   "source": [
    "class Person:                  # Class name\n",
    "    def __init__(self,n, m=60):        # Constructor\n",
    "        self.name = n          # instance variables\n",
    "        self.marks = m\n",
    "    def show(self):            # method of class\n",
    "        print('Your data:')\n",
    "        print(self.name, self.marks)\n",
    "    def check(self):\n",
    "        if self.marks >= 60:\n",
    "            print('First Class')\n",
    "        else:\n",
    "            print('NO First Class')"
   ]
  },
  {
   "cell_type": "code",
   "execution_count": 21,
   "id": "62aef877",
   "metadata": {},
   "outputs": [
    {
     "name": "stdout",
     "output_type": "stream",
     "text": [
      "Your data:\n",
      "Prem 60\n",
      "Your data:\n",
      "Rani 76.88\n"
     ]
    }
   ],
   "source": [
    "p1 = Person('Prem')\n",
    "p1.show()\n",
    "\n",
    "p2 = Person(m=76.88, n='Rani')\n",
    "p2.show()"
   ]
  },
  {
   "cell_type": "code",
   "execution_count": 23,
   "id": "9c197650",
   "metadata": {},
   "outputs": [
    {
     "name": "stdout",
     "output_type": "stream",
     "text": [
      "Prem Rani\n"
     ]
    }
   ],
   "source": [
    "print(p1.name, p2.name)"
   ]
  },
  {
   "cell_type": "code",
   "execution_count": 25,
   "id": "d4c0e7d6",
   "metadata": {},
   "outputs": [
    {
     "name": "stdout",
     "output_type": "stream",
     "text": [
      "First Class\n",
      "First Class\n"
     ]
    }
   ],
   "source": [
    "p1.check()\n",
    "p2.check()"
   ]
  },
  {
   "cell_type": "code",
   "execution_count": 26,
   "id": "d2179923",
   "metadata": {},
   "outputs": [],
   "source": [
    "x = [5,7,6,7,8,9]\n",
    "x.remove(7)"
   ]
  },
  {
   "cell_type": "code",
   "execution_count": 27,
   "id": "2d395609",
   "metadata": {},
   "outputs": [
    {
     "data": {
      "text/plain": [
       "[5, 6, 7, 8, 9]"
      ]
     },
     "execution_count": 27,
     "metadata": {},
     "output_type": "execute_result"
    }
   ],
   "source": [
    "x"
   ]
  },
  {
   "cell_type": "code",
   "execution_count": null,
   "id": "4d024860",
   "metadata": {},
   "outputs": [],
   "source": []
  }
 ],
 "metadata": {
  "kernelspec": {
   "display_name": "Python 3",
   "language": "python",
   "name": "python3"
  },
  "language_info": {
   "codemirror_mode": {
    "name": "ipython",
    "version": 3
   },
   "file_extension": ".py",
   "mimetype": "text/x-python",
   "name": "python",
   "nbconvert_exporter": "python",
   "pygments_lexer": "ipython3",
   "version": "3.8.10"
  }
 },
 "nbformat": 4,
 "nbformat_minor": 5
}
