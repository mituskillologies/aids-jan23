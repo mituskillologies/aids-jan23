{
 "cells": [
  {
   "cell_type": "markdown",
   "metadata": {},
   "source": [
    "### Simple if statement"
   ]
  },
  {
   "cell_type": "code",
   "execution_count": 3,
   "metadata": {},
   "outputs": [
    {
     "name": "stdout",
     "output_type": "stream",
     "text": [
      "Enter the number:28\n"
     ]
    }
   ],
   "source": [
    "num = float(input('Enter the number:'))\n",
    "\n",
    "if num > 50:\n",
    "    print('YES')"
   ]
  },
  {
   "cell_type": "markdown",
   "metadata": {},
   "source": [
    "### Write a program to check the number is +ve or -ve"
   ]
  },
  {
   "cell_type": "code",
   "execution_count": 13,
   "metadata": {},
   "outputs": [
    {
     "name": "stdout",
     "output_type": "stream",
     "text": [
      "Enter the number:-45\n",
      "Negative\n",
      "Welcome!\n",
      "Done\n"
     ]
    }
   ],
   "source": [
    "num = int(input('Enter the number:'))\n",
    "\n",
    "if num > 0:\n",
    "    print('Positive')\n",
    "    print('Good Bye!')\n",
    "else:\n",
    "    print('Negative')\n",
    "    print('Welcome!')\n",
    "\n",
    "print('Done')"
   ]
  },
  {
   "cell_type": "code",
   "execution_count": 14,
   "metadata": {},
   "outputs": [
    {
     "name": "stdout",
     "output_type": "stream",
     "text": [
      "Enter the number:0\n",
      "ZERO\n"
     ]
    }
   ],
   "source": [
    "num = int(input('Enter the number:'))\n",
    "\n",
    "if num > 0:            # Compulsory, Condition, Non-repeatable\n",
    "    print('Positive')\n",
    "elif num == 0:         # Optional, Condition, Repeatable\n",
    "    print('ZERO')\n",
    "else:                  # Optional, No-condition, Non-repeatable\n",
    "    print('Negative')"
   ]
  },
  {
   "cell_type": "markdown",
   "metadata": {},
   "source": [
    "### Write a program to check number is odd/even"
   ]
  },
  {
   "cell_type": "code",
   "execution_count": 19,
   "metadata": {},
   "outputs": [
    {
     "name": "stdout",
     "output_type": "stream",
     "text": [
      "Enter the number:-3\n",
      "Odd\n"
     ]
    }
   ],
   "source": [
    "num = int(input('Enter the number:'))\n",
    "\n",
    "if num == 0:            \n",
    "    print('Zero')\n",
    "elif num % 2 == 0:         \n",
    "    print('Even')\n",
    "else:                  \n",
    "    print('Odd')"
   ]
  },
  {
   "cell_type": "code",
   "execution_count": 20,
   "metadata": {},
   "outputs": [
    {
     "data": {
      "text/plain": [
       "5"
      ]
     },
     "execution_count": 20,
     "metadata": {},
     "output_type": "execute_result"
    }
   ],
   "source": [
    "# Absolute\n",
    "abs(-5)"
   ]
  },
  {
   "cell_type": "code",
   "execution_count": 25,
   "metadata": {},
   "outputs": [
    {
     "name": "stdout",
     "output_type": "stream",
     "text": [
      "OK\n"
     ]
    }
   ],
   "source": [
    "if 9:\n",
    "    print('OK')\n",
    "else:\n",
    "    print('NOT OK')"
   ]
  },
  {
   "cell_type": "markdown",
   "metadata": {},
   "source": [
    "### Nesting"
   ]
  },
  {
   "cell_type": "code",
   "execution_count": 31,
   "metadata": {},
   "outputs": [
    {
     "name": "stdout",
     "output_type": "stream",
     "text": [
      "Enter the number:90\n",
      "YES\n"
     ]
    }
   ],
   "source": [
    "# Write to program to check the number is between 50 and 100\n",
    "\n",
    "num = int(input('Enter the number:'))\n",
    "\n",
    "if num > 50:\n",
    "    if num < 100:\n",
    "        print('YES')  # 90\n",
    "    else:\n",
    "        print('NO')  # 110\n",
    "else:\n",
    "    print('NO')  # 40"
   ]
  },
  {
   "cell_type": "code",
   "execution_count": 32,
   "metadata": {},
   "outputs": [
    {
     "name": "stdout",
     "output_type": "stream",
     "text": [
      "Enter first number: 78\n",
      "Enter second number: 45\n",
      "Enter third number: 67\n",
      "Largest: 78\n"
     ]
    }
   ],
   "source": [
    "num1 = int(input('Enter first number: '))\n",
    "num2 = int(input('Enter second number: '))\n",
    "num3 = int(input('Enter third number: '))\n",
    "\n",
    "if num1 > num2:\n",
    "    if num1 > num3:\n",
    "        print('Largest:', num1)\n",
    "    else:\n",
    "        print('Largest:', num3)\n",
    "else:\n",
    "    if num2 > num3:\n",
    "        print('Largest:', num2)\n",
    "    else:\n",
    "        print('Largest:', num3)"
   ]
  },
  {
   "cell_type": "markdown",
   "metadata": {},
   "source": [
    "### Write a program to find the year is leap of not?"
   ]
  },
  {
   "cell_type": "code",
   "execution_count": 35,
   "metadata": {},
   "outputs": [
    {
     "name": "stdout",
     "output_type": "stream",
     "text": [
      "Enter the year: 2023\n",
      "NOT Leap year\n"
     ]
    }
   ],
   "source": [
    "num = int(input('Enter the year: '))\n",
    "\n",
    "if num % 4 == 0:\n",
    "    print('Leap year')\n",
    "else:\n",
    "    print('NOT Leap year')"
   ]
  },
  {
   "cell_type": "code",
   "execution_count": 38,
   "metadata": {},
   "outputs": [
    {
     "name": "stdout",
     "output_type": "stream",
     "text": [
      "Enter the year: 2020\n",
      "Leap year\n"
     ]
    }
   ],
   "source": [
    "year = int(input('Enter the year: '))\n",
    "\n",
    "if year % 4 == 0:\n",
    "    if year % 100 == 0:\n",
    "        if year % 400 == 0:\n",
    "            print('Leap year')      # 2000\n",
    "        else:\n",
    "            print('Not leap year')  # 1900\n",
    "    else:\n",
    "        print('Leap year')          # 2020\n",
    "else:\n",
    "    print('Not leap year')          # 2023"
   ]
  },
  {
   "cell_type": "markdown",
   "metadata": {},
   "source": [
    "### Repeatable elif"
   ]
  },
  {
   "cell_type": "code",
   "execution_count": 40,
   "metadata": {},
   "outputs": [
    {
     "name": "stdout",
     "output_type": "stream",
     "text": [
      "Enter the marks: 73\n",
      "First Class\n"
     ]
    }
   ],
   "source": [
    "marks = float(input('Enter the marks: '))\n",
    "\n",
    "if marks >= 75:\n",
    "    print('Distinction')\n",
    "elif marks >= 60:\n",
    "    print('First Class')\n",
    "elif marks >= 50:\n",
    "    print('Second Class')\n",
    "elif marks >= 40:\n",
    "    print('Pass Class')\n",
    "else:\n",
    "    print('Failed!')"
   ]
  },
  {
   "cell_type": "code",
   "execution_count": null,
   "metadata": {},
   "outputs": [],
   "source": []
  }
 ],
 "metadata": {
  "kernelspec": {
   "display_name": "Python 3",
   "language": "python",
   "name": "python3"
  },
  "language_info": {
   "codemirror_mode": {
    "name": "ipython",
    "version": 3
   },
   "file_extension": ".py",
   "mimetype": "text/x-python",
   "name": "python",
   "nbconvert_exporter": "python",
   "pygments_lexer": "ipython3",
   "version": "3.8.10"
  }
 },
 "nbformat": 4,
 "nbformat_minor": 4
}
