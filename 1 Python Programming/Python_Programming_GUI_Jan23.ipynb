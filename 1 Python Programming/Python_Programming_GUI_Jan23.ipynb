{
 "cells": [
  {
   "cell_type": "code",
   "execution_count": 4,
   "id": "128dc3b8",
   "metadata": {},
   "outputs": [],
   "source": [
    "import tkinter as tk"
   ]
  },
  {
   "cell_type": "markdown",
   "id": "61acff59",
   "metadata": {},
   "source": [
    "### Basic Window"
   ]
  },
  {
   "cell_type": "code",
   "execution_count": 5,
   "id": "a6b11024",
   "metadata": {},
   "outputs": [],
   "source": [
    "top = tk.Tk()\n",
    "\n",
    "top.mainloop()"
   ]
  },
  {
   "cell_type": "markdown",
   "id": "e0fcade3",
   "metadata": {},
   "source": [
    "### Window with dimensions"
   ]
  },
  {
   "cell_type": "code",
   "execution_count": 8,
   "id": "d2f930e7",
   "metadata": {},
   "outputs": [],
   "source": [
    "top = tk.Tk()\n",
    "\n",
    "top.title('My application')\n",
    "top.geometry('500x300')            # width x height\n",
    "\n",
    "top.mainloop()"
   ]
  },
  {
   "cell_type": "markdown",
   "id": "a1f75460",
   "metadata": {},
   "source": [
    "### Add the label widget"
   ]
  },
  {
   "cell_type": "code",
   "execution_count": 10,
   "id": "3755d1b9",
   "metadata": {},
   "outputs": [],
   "source": [
    "top = tk.Tk()\n",
    "\n",
    "top.title('My application')\n",
    "top.geometry('500x300')            \n",
    "\n",
    "l = tk.Label(top, text='Hello World')\n",
    "l.pack()\n",
    "\n",
    "top.mainloop()"
   ]
  },
  {
   "cell_type": "markdown",
   "id": "0487993e",
   "metadata": {},
   "source": [
    "### Add the textbox"
   ]
  },
  {
   "cell_type": "code",
   "execution_count": 13,
   "id": "fda73bbd",
   "metadata": {},
   "outputs": [],
   "source": [
    "top = tk.Tk()\n",
    "\n",
    "top.title('My application')\n",
    "top.geometry('500x300')            \n",
    "\n",
    "l = tk.Label(top, text='Hello World')\n",
    "l.pack()\n",
    "t = tk.Entry(top)\n",
    "t.pack()\n",
    "\n",
    "top.mainloop()"
   ]
  },
  {
   "cell_type": "markdown",
   "id": "2328efaa",
   "metadata": {},
   "source": [
    "### Add the Button"
   ]
  },
  {
   "cell_type": "code",
   "execution_count": 15,
   "id": "6bd3c6e3",
   "metadata": {},
   "outputs": [],
   "source": [
    "top = tk.Tk()\n",
    "\n",
    "top.title('My application')\n",
    "top.geometry('500x300')            \n",
    "\n",
    "l = tk.Label(top, text='Hello World')\n",
    "l.pack()\n",
    "t = tk.Entry(top)\n",
    "t.pack()\n",
    "b = tk.Button(top, text='submit')\n",
    "b.pack()\n",
    "\n",
    "top.mainloop()"
   ]
  },
  {
   "cell_type": "markdown",
   "id": "4704de06",
   "metadata": {},
   "source": [
    "### Event handling"
   ]
  },
  {
   "cell_type": "code",
   "execution_count": 32,
   "id": "1ed6d9e4",
   "metadata": {},
   "outputs": [
    {
     "name": "stdout",
     "output_type": "stream",
     "text": [
      "Square is: 0\n",
      "Square is: 49\n",
      "Square is: 49\n",
      "Square is: 0\n",
      "Square is: 1\n",
      "Square is: 100\n",
      "Square is: 100\n"
     ]
    },
    {
     "name": "stderr",
     "output_type": "stream",
     "text": [
      "Exception in Tkinter callback\n",
      "Traceback (most recent call last):\n",
      "  File \"/usr/lib/python3.8/tkinter/__init__.py\", line 545, in get\n",
      "    return self._tk.getint(value)\n",
      "_tkinter.TclError: expected integer but got \"\"\n",
      "\n",
      "During handling of the above exception, another exception occurred:\n",
      "\n",
      "Traceback (most recent call last):\n",
      "  File \"/usr/lib/python3.8/tkinter/__init__.py\", line 1892, in __call__\n",
      "    return self.func(*args)\n",
      "  File \"<ipython-input-32-1a7a19ed5e20>\", line 7, in calc\n",
      "    sq = num.get() ** 2\n",
      "  File \"/usr/lib/python3.8/tkinter/__init__.py\", line 547, in get\n",
      "    return int(self._tk.getdouble(value))\n",
      "_tkinter.TclError: expected floating-point number but got \"\"\n",
      "Exception in Tkinter callback\n",
      "Traceback (most recent call last):\n",
      "  File \"/usr/lib/python3.8/tkinter/__init__.py\", line 545, in get\n",
      "    return self._tk.getint(value)\n",
      "_tkinter.TclError: expected integer but got \"e\"\n",
      "\n",
      "During handling of the above exception, another exception occurred:\n",
      "\n",
      "Traceback (most recent call last):\n",
      "  File \"/usr/lib/python3.8/tkinter/__init__.py\", line 1892, in __call__\n",
      "    return self.func(*args)\n",
      "  File \"<ipython-input-32-1a7a19ed5e20>\", line 7, in calc\n",
      "    sq = num.get() ** 2\n",
      "  File \"/usr/lib/python3.8/tkinter/__init__.py\", line 547, in get\n",
      "    return int(self._tk.getdouble(value))\n",
      "_tkinter.TclError: expected floating-point number but got \"e\"\n"
     ]
    }
   ],
   "source": [
    "top = tk.Tk()\n",
    "\n",
    "top.title('My application')\n",
    "top.geometry('500x300')    \n",
    "\n",
    "def calc(event):\n",
    "    sq = num.get() ** 2\n",
    "    print('Square is:', sq)\n",
    "\n",
    "num = tk.IntVar()   # integer variable\n",
    "\n",
    "l = tk.Label(top, text='Enter the number:')\n",
    "l.pack()\n",
    "t = tk.Entry(top, textvariable=num)\n",
    "t.pack()\n",
    "t.bind(\"<KeyPress>\", calc)\n",
    "\n",
    "#b = tk.Button(top, text='Find Square', command=calc)\n",
    "#b.pack()\n",
    "\n",
    "top.mainloop()"
   ]
  },
  {
   "cell_type": "code",
   "execution_count": null,
   "id": "452f01cb",
   "metadata": {},
   "outputs": [],
   "source": []
  }
 ],
 "metadata": {
  "kernelspec": {
   "display_name": "Python 3",
   "language": "python",
   "name": "python3"
  },
  "language_info": {
   "codemirror_mode": {
    "name": "ipython",
    "version": 3
   },
   "file_extension": ".py",
   "mimetype": "text/x-python",
   "name": "python",
   "nbconvert_exporter": "python",
   "pygments_lexer": "ipython3",
   "version": "3.8.10"
  }
 },
 "nbformat": 4,
 "nbformat_minor": 5
}
