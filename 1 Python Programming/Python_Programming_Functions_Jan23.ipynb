{
 "cells": [
  {
   "cell_type": "markdown",
   "id": "5b14aa48",
   "metadata": {},
   "source": [
    "### Basic Function"
   ]
  },
  {
   "cell_type": "code",
   "execution_count": 2,
   "id": "e39ae95d",
   "metadata": {},
   "outputs": [],
   "source": [
    "def display():                        # Function Definition\n",
    "    print('Hello World')"
   ]
  },
  {
   "cell_type": "code",
   "execution_count": 3,
   "id": "2cb9e38d",
   "metadata": {},
   "outputs": [
    {
     "name": "stdout",
     "output_type": "stream",
     "text": [
      "Hello World\n"
     ]
    }
   ],
   "source": [
    "display()                             # Function call"
   ]
  },
  {
   "cell_type": "code",
   "execution_count": 4,
   "id": "28f143d3",
   "metadata": {},
   "outputs": [],
   "source": [
    "def show():                        # Function Definition\n",
    "    print('Hello World')\n",
    "    print('Welcome!')\n",
    "    print('Enjoy Python programming')"
   ]
  },
  {
   "cell_type": "code",
   "execution_count": 5,
   "id": "17aac2db",
   "metadata": {},
   "outputs": [
    {
     "name": "stdout",
     "output_type": "stream",
     "text": [
      "Hello World\n",
      "Welcome!\n",
      "Enjoy Python programming\n"
     ]
    }
   ],
   "source": [
    "show()"
   ]
  },
  {
   "cell_type": "markdown",
   "id": "6f8d7fcf",
   "metadata": {},
   "source": [
    "### Parameterized Function"
   ]
  },
  {
   "cell_type": "code",
   "execution_count": 7,
   "id": "4dce5372",
   "metadata": {},
   "outputs": [],
   "source": [
    "def square(n):                  # n -> argument / parameter\n",
    "    sq = n * n\n",
    "    print('Square:', sq)"
   ]
  },
  {
   "cell_type": "code",
   "execution_count": 8,
   "id": "5d531e1d",
   "metadata": {
    "scrolled": true
   },
   "outputs": [
    {
     "name": "stdout",
     "output_type": "stream",
     "text": [
      "Square: 36\n"
     ]
    }
   ],
   "source": [
    "square(6)"
   ]
  },
  {
   "cell_type": "code",
   "execution_count": 9,
   "id": "ccc724eb",
   "metadata": {},
   "outputs": [
    {
     "name": "stdout",
     "output_type": "stream",
     "text": [
      "Square: 361\n"
     ]
    }
   ],
   "source": [
    "square(19)"
   ]
  },
  {
   "cell_type": "code",
   "execution_count": 10,
   "id": "7f9449ec",
   "metadata": {},
   "outputs": [
    {
     "name": "stdout",
     "output_type": "stream",
     "text": [
      "Square: 2103.1396\n"
     ]
    }
   ],
   "source": [
    "square(45.86)"
   ]
  },
  {
   "cell_type": "code",
   "execution_count": 11,
   "id": "019c86ec",
   "metadata": {},
   "outputs": [],
   "source": [
    "def larger(x, y):\n",
    "    if x > y:\n",
    "        print('Larger:', x)\n",
    "    else:\n",
    "        print('Larger:', y)"
   ]
  },
  {
   "cell_type": "code",
   "execution_count": 12,
   "id": "afc5f122",
   "metadata": {},
   "outputs": [
    {
     "name": "stdout",
     "output_type": "stream",
     "text": [
      "Larger: 56\n"
     ]
    }
   ],
   "source": [
    "larger(56, 12)"
   ]
  },
  {
   "cell_type": "code",
   "execution_count": 13,
   "id": "8769c724",
   "metadata": {},
   "outputs": [
    {
     "name": "stdout",
     "output_type": "stream",
     "text": [
      "Enter first number:45\n",
      "Enter second number:89\n",
      "Larger: 89\n"
     ]
    }
   ],
   "source": [
    "num1 = int(input('Enter first number:'))\n",
    "num2 = int(input('Enter second number:'))\n",
    "larger(num1, num2)     # Function call"
   ]
  },
  {
   "cell_type": "markdown",
   "id": "02e3197f",
   "metadata": {},
   "source": [
    "### Function can call another function"
   ]
  },
  {
   "cell_type": "code",
   "execution_count": 15,
   "id": "355a5889",
   "metadata": {},
   "outputs": [],
   "source": [
    "def show():\n",
    "    print('Result is:')\n",
    "\n",
    "def square(n):\n",
    "    sq = n * n\n",
    "    show()\n",
    "    print(sq)"
   ]
  },
  {
   "cell_type": "code",
   "execution_count": 16,
   "id": "8957c738",
   "metadata": {},
   "outputs": [
    {
     "name": "stdout",
     "output_type": "stream",
     "text": [
      "Result is:\n",
      "36\n"
     ]
    }
   ],
   "source": [
    "square(6)"
   ]
  },
  {
   "cell_type": "markdown",
   "id": "b185506b",
   "metadata": {},
   "source": [
    "### Return values"
   ]
  },
  {
   "cell_type": "code",
   "execution_count": 18,
   "id": "3748f44d",
   "metadata": {},
   "outputs": [],
   "source": [
    "def square(n):\n",
    "    sq = n * n\n",
    "    return sq"
   ]
  },
  {
   "cell_type": "code",
   "execution_count": 19,
   "id": "dad68d64",
   "metadata": {},
   "outputs": [],
   "source": [
    "num = square(6)"
   ]
  },
  {
   "cell_type": "code",
   "execution_count": 20,
   "id": "92a9d546",
   "metadata": {},
   "outputs": [
    {
     "name": "stdout",
     "output_type": "stream",
     "text": [
      "36\n"
     ]
    }
   ],
   "source": [
    "print(num)"
   ]
  },
  {
   "cell_type": "code",
   "execution_count": 21,
   "id": "ac1b68ad",
   "metadata": {},
   "outputs": [
    {
     "name": "stdout",
     "output_type": "stream",
     "text": [
      "25\n"
     ]
    }
   ],
   "source": [
    "print(square(5))"
   ]
  },
  {
   "cell_type": "code",
   "execution_count": 22,
   "id": "5a11b258",
   "metadata": {},
   "outputs": [
    {
     "data": {
      "text/plain": [
       "343"
      ]
     },
     "execution_count": 22,
     "metadata": {},
     "output_type": "execute_result"
    }
   ],
   "source": [
    "7 * square(7)"
   ]
  },
  {
   "cell_type": "code",
   "execution_count": 23,
   "id": "5b26cc3a",
   "metadata": {},
   "outputs": [],
   "source": [
    "def larger(x, y):\n",
    "    if x > y:\n",
    "        return x\n",
    "    else:\n",
    "        return y"
   ]
  },
  {
   "cell_type": "code",
   "execution_count": 24,
   "id": "cd10b119",
   "metadata": {},
   "outputs": [],
   "source": [
    "large = larger(45, 90)"
   ]
  },
  {
   "cell_type": "code",
   "execution_count": 25,
   "id": "a4914d3f",
   "metadata": {},
   "outputs": [
    {
     "name": "stdout",
     "output_type": "stream",
     "text": [
      "90\n"
     ]
    }
   ],
   "source": [
    "print(large)"
   ]
  },
  {
   "cell_type": "code",
   "execution_count": 26,
   "id": "8d2f1510",
   "metadata": {},
   "outputs": [
    {
     "name": "stdout",
     "output_type": "stream",
     "text": [
      "45.53\n"
     ]
    }
   ],
   "source": [
    "large = larger(45.53, 9.36)\n",
    "print(large)"
   ]
  },
  {
   "cell_type": "markdown",
   "id": "a9d2acc0",
   "metadata": {},
   "source": [
    "#### Excercise"
   ]
  },
  {
   "cell_type": "code",
   "execution_count": 28,
   "id": "b79592e5",
   "metadata": {},
   "outputs": [
    {
     "name": "stdout",
     "output_type": "stream",
     "text": [
      "Enter the number:5\n",
      "Factorial is: 120\n"
     ]
    }
   ],
   "source": [
    "# Write a function to find factorial of a number\n",
    "\n",
    "def factorial(n):\n",
    "    fact = 1\n",
    "    for x in range(1, n+1):\n",
    "        fact = fact * x\n",
    "        \n",
    "    return fact\n",
    "\n",
    "num = int(input('Enter the number:'))\n",
    "f = factorial(num)\n",
    "\n",
    "print('Factorial is:', f)"
   ]
  },
  {
   "cell_type": "markdown",
   "id": "44966c8a",
   "metadata": {},
   "source": [
    "### Multi-return functions"
   ]
  },
  {
   "cell_type": "code",
   "execution_count": 30,
   "id": "2da82ba5",
   "metadata": {},
   "outputs": [],
   "source": [
    "def calc(n):\n",
    "    sq = n * n\n",
    "    cu = n ** 3\n",
    "    return sq, cu"
   ]
  },
  {
   "cell_type": "code",
   "execution_count": 31,
   "id": "ff7bc3d8",
   "metadata": {},
   "outputs": [
    {
     "name": "stdout",
     "output_type": "stream",
     "text": [
      "Square and Cube: (49, 343)\n"
     ]
    }
   ],
   "source": [
    "print('Square and Cube:', calc(7))"
   ]
  },
  {
   "cell_type": "code",
   "execution_count": 32,
   "id": "bedd5ba5",
   "metadata": {},
   "outputs": [
    {
     "data": {
      "text/plain": [
       "(25, 125)"
      ]
     },
     "execution_count": 32,
     "metadata": {},
     "output_type": "execute_result"
    }
   ],
   "source": [
    "calc(5)"
   ]
  },
  {
   "cell_type": "code",
   "execution_count": 34,
   "id": "2a5a6bc3",
   "metadata": {
    "scrolled": true
   },
   "outputs": [
    {
     "name": "stdout",
     "output_type": "stream",
     "text": [
      "Enter the number:70\n",
      "Number is Even!\n"
     ]
    }
   ],
   "source": [
    "def isEven(n):\n",
    "    if n % 2 == 0:\n",
    "        return True\n",
    "    else:\n",
    "        return False\n",
    "\n",
    "num = int(input('Enter the number:'))\n",
    "\n",
    "if isEven(num):\n",
    "    print('Number is Even!')\n",
    "else:\n",
    "    print('Number is Odd!')"
   ]
  },
  {
   "cell_type": "markdown",
   "id": "35ec47d5",
   "metadata": {},
   "source": [
    "### Default argument to functions"
   ]
  },
  {
   "cell_type": "code",
   "execution_count": 47,
   "id": "3eb997b4",
   "metadata": {},
   "outputs": [],
   "source": [
    "def calc(x=5, y=2, z=3):\n",
    "    add = x + y + z\n",
    "    return(add)"
   ]
  },
  {
   "cell_type": "code",
   "execution_count": 49,
   "id": "aa5785ae",
   "metadata": {},
   "outputs": [
    {
     "name": "stdout",
     "output_type": "stream",
     "text": [
      "1. Addition: 26\n",
      "2. Addition: 19\n",
      "3. Addition: 12\n",
      "4. Addition: 10\n",
      "5. Addition: 18\n",
      "6. Addition: 24\n"
     ]
    }
   ],
   "source": [
    "print('1. Addition:', calc(7,9,10))\n",
    "print('2. Addition:', calc(7,9))\n",
    "print('3. Addition:', calc(7))\n",
    "print('4. Addition:', calc())\n",
    "print('5. Addition:', calc(y=10))\n",
    "print('6. Addition:', calc(y=5,z=11,x=8))"
   ]
  },
  {
   "cell_type": "markdown",
   "id": "017cf697",
   "metadata": {},
   "source": [
    "### Variable arguments"
   ]
  },
  {
   "cell_type": "code",
   "execution_count": 57,
   "id": "6d750d42",
   "metadata": {},
   "outputs": [],
   "source": [
    "def show(*num):\n",
    "    for n in num:\n",
    "        print(n, end=' ')"
   ]
  },
  {
   "cell_type": "code",
   "execution_count": 58,
   "id": "5717de46",
   "metadata": {},
   "outputs": [
    {
     "name": "stdout",
     "output_type": "stream",
     "text": [
      "5 6 7 8 "
     ]
    }
   ],
   "source": [
    "show(5,6,7,8)"
   ]
  },
  {
   "cell_type": "code",
   "execution_count": 59,
   "id": "6346ca65",
   "metadata": {},
   "outputs": [
    {
     "name": "stdout",
     "output_type": "stream",
     "text": [
      "hello pune 78.35 True 132 "
     ]
    }
   ],
   "source": [
    "show('hello','pune',78.35,True,132)"
   ]
  },
  {
   "cell_type": "markdown",
   "id": "be9fa1fd",
   "metadata": {},
   "source": [
    "### lambda functions"
   ]
  },
  {
   "cell_type": "code",
   "execution_count": 63,
   "id": "8e7215da",
   "metadata": {},
   "outputs": [],
   "source": [
    "def square(x):\n",
    "    return x * x"
   ]
  },
  {
   "cell_type": "code",
   "execution_count": 64,
   "id": "f807eba3",
   "metadata": {},
   "outputs": [],
   "source": [
    "square = lambda x: x * x"
   ]
  },
  {
   "cell_type": "code",
   "execution_count": 65,
   "id": "18cd30e7",
   "metadata": {},
   "outputs": [
    {
     "name": "stdout",
     "output_type": "stream",
     "text": [
      "25\n"
     ]
    }
   ],
   "source": [
    "print(square(5))"
   ]
  },
  {
   "cell_type": "markdown",
   "id": "5ccb0992",
   "metadata": {},
   "source": [
    "#### map"
   ]
  },
  {
   "cell_type": "code",
   "execution_count": 67,
   "id": "940ba8fd",
   "metadata": {},
   "outputs": [],
   "source": [
    "x = [46,73,55,42,18,61,34,52]"
   ]
  },
  {
   "cell_type": "code",
   "execution_count": 70,
   "id": "2ff9f1b3",
   "metadata": {},
   "outputs": [],
   "source": [
    "new = map(lambda n: n/2, x)   # new = [n/2 for n in x]"
   ]
  },
  {
   "cell_type": "code",
   "execution_count": 69,
   "id": "4dedceb2",
   "metadata": {},
   "outputs": [
    {
     "data": {
      "text/plain": [
       "[23.0, 36.5, 27.5, 21.0, 9.0, 30.5, 17.0, 26.0]"
      ]
     },
     "execution_count": 69,
     "metadata": {},
     "output_type": "execute_result"
    }
   ],
   "source": [
    "list(new)"
   ]
  },
  {
   "cell_type": "code",
   "execution_count": 71,
   "id": "fe272ac0",
   "metadata": {},
   "outputs": [
    {
     "data": {
      "text/plain": [
       "[2116, 5329, 3025, 1764, 324, 3721, 1156, 2704]"
      ]
     },
     "execution_count": 71,
     "metadata": {},
     "output_type": "execute_result"
    }
   ],
   "source": [
    "new = map(lambda n: n*n, x) \n",
    "list(new)"
   ]
  },
  {
   "cell_type": "markdown",
   "id": "4263bc3c",
   "metadata": {},
   "source": [
    "#### filter"
   ]
  },
  {
   "cell_type": "code",
   "execution_count": 73,
   "id": "d9b2398e",
   "metadata": {},
   "outputs": [],
   "source": [
    "x = [46,73,55,42,18,61,34,52]"
   ]
  },
  {
   "cell_type": "code",
   "execution_count": 74,
   "id": "b2df4507",
   "metadata": {},
   "outputs": [
    {
     "data": {
      "text/plain": [
       "[73, 55, 61, 52]"
      ]
     },
     "execution_count": 74,
     "metadata": {},
     "output_type": "execute_result"
    }
   ],
   "source": [
    "new = filter(lambda n: n > 50, x)   # new = [n for n in x if n > 50]\n",
    "list(new)"
   ]
  },
  {
   "cell_type": "code",
   "execution_count": 75,
   "id": "ea1177b7",
   "metadata": {},
   "outputs": [
    {
     "data": {
      "text/plain": [
       "[73, 55, 61]"
      ]
     },
     "execution_count": 75,
     "metadata": {},
     "output_type": "execute_result"
    }
   ],
   "source": [
    "new = filter(lambda n: n % 2, x)\n",
    "list(new)"
   ]
  },
  {
   "cell_type": "code",
   "execution_count": 76,
   "id": "b68cd623",
   "metadata": {},
   "outputs": [
    {
     "data": {
      "text/plain": [
       "[46, 42, 18, 34, 52]"
      ]
     },
     "execution_count": 76,
     "metadata": {},
     "output_type": "execute_result"
    }
   ],
   "source": [
    "new = filter(lambda n: n % 2 == 0, x)\n",
    "list(new)"
   ]
  },
  {
   "cell_type": "code",
   "execution_count": null,
   "id": "4ccd43f3",
   "metadata": {},
   "outputs": [],
   "source": []
  }
 ],
 "metadata": {
  "kernelspec": {
   "display_name": "Python 3",
   "language": "python",
   "name": "python3"
  },
  "language_info": {
   "codemirror_mode": {
    "name": "ipython",
    "version": 3
   },
   "file_extension": ".py",
   "mimetype": "text/x-python",
   "name": "python",
   "nbconvert_exporter": "python",
   "pygments_lexer": "ipython3",
   "version": "3.8.10"
  }
 },
 "nbformat": 4,
 "nbformat_minor": 5
}
