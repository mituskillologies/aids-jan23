{
 "cells": [
  {
   "cell_type": "code",
   "execution_count": 2,
   "id": "451a14e6",
   "metadata": {},
   "outputs": [],
   "source": [
    "# numpy -> Array Operations   np\n",
    "# pandas -> structured data analysis   pd\n",
    "# matplotlib -> data visualization   plt\n",
    "# seaborn -> advanced data visualization   sns\n",
    "# scikit-learn -> machine learning\n",
    "# keras -> deep learning\n",
    "# nltk -> natural language processing"
   ]
  },
  {
   "cell_type": "code",
   "execution_count": 3,
   "id": "7486566a",
   "metadata": {},
   "outputs": [],
   "source": [
    "import numpy as np"
   ]
  },
  {
   "cell_type": "markdown",
   "id": "97e89614",
   "metadata": {},
   "source": [
    "### Create an array"
   ]
  },
  {
   "cell_type": "code",
   "execution_count": 5,
   "id": "6eee3dfd",
   "metadata": {},
   "outputs": [],
   "source": [
    "x = np.array([6,7,5,3,1,8,9,0,2])"
   ]
  },
  {
   "cell_type": "code",
   "execution_count": 6,
   "id": "5a0d815c",
   "metadata": {},
   "outputs": [
    {
     "name": "stdout",
     "output_type": "stream",
     "text": [
      "[6 7 5 3 1 8 9 0 2]\n"
     ]
    }
   ],
   "source": [
    "print(x)"
   ]
  },
  {
   "cell_type": "code",
   "execution_count": 7,
   "id": "ad1d65f5",
   "metadata": {
    "scrolled": true
   },
   "outputs": [
    {
     "name": "stdout",
     "output_type": "stream",
     "text": [
      "[6, 7, 5, 3, 1, 8, 9, 0, 2]\n"
     ]
    }
   ],
   "source": [
    "y = [6,7,5,3,1,8,9,0,2]\n",
    "print(y)"
   ]
  },
  {
   "cell_type": "code",
   "execution_count": 8,
   "id": "6a3a1615",
   "metadata": {},
   "outputs": [
    {
     "data": {
      "text/plain": [
       "array([6, 7, 5, 3, 1, 8, 9, 0, 2])"
      ]
     },
     "execution_count": 8,
     "metadata": {},
     "output_type": "execute_result"
    }
   ],
   "source": [
    "x"
   ]
  },
  {
   "cell_type": "code",
   "execution_count": 9,
   "id": "e851f35e",
   "metadata": {},
   "outputs": [
    {
     "data": {
      "text/plain": [
       "numpy.ndarray"
      ]
     },
     "execution_count": 9,
     "metadata": {},
     "output_type": "execute_result"
    }
   ],
   "source": [
    "type(x)"
   ]
  },
  {
   "cell_type": "code",
   "execution_count": 10,
   "id": "4461f138",
   "metadata": {},
   "outputs": [
    {
     "data": {
      "text/plain": [
       "dtype('int64')"
      ]
     },
     "execution_count": 10,
     "metadata": {},
     "output_type": "execute_result"
    }
   ],
   "source": [
    "x.dtype"
   ]
  },
  {
   "cell_type": "code",
   "execution_count": 11,
   "id": "35de8f35",
   "metadata": {},
   "outputs": [
    {
     "data": {
      "text/plain": [
       "9"
      ]
     },
     "execution_count": 11,
     "metadata": {},
     "output_type": "execute_result"
    }
   ],
   "source": [
    "x.size"
   ]
  },
  {
   "cell_type": "code",
   "execution_count": 12,
   "id": "710f1c10",
   "metadata": {},
   "outputs": [
    {
     "data": {
      "text/plain": [
       "(9,)"
      ]
     },
     "execution_count": 12,
     "metadata": {},
     "output_type": "execute_result"
    }
   ],
   "source": [
    "x.shape"
   ]
  },
  {
   "cell_type": "code",
   "execution_count": 13,
   "id": "71ebce4d",
   "metadata": {},
   "outputs": [],
   "source": [
    "x = np.array([6,7,5,3,1,8,9,0,2], dtype = np.int32)"
   ]
  },
  {
   "cell_type": "code",
   "execution_count": 14,
   "id": "60faedb1",
   "metadata": {},
   "outputs": [
    {
     "data": {
      "text/plain": [
       "dtype('int32')"
      ]
     },
     "execution_count": 14,
     "metadata": {},
     "output_type": "execute_result"
    }
   ],
   "source": [
    "x.dtype"
   ]
  },
  {
   "cell_type": "code",
   "execution_count": 15,
   "id": "4312f49b",
   "metadata": {},
   "outputs": [],
   "source": [
    "x = np.array([6,7,5,3,1,8,9,0,2], dtype = np.float32)"
   ]
  },
  {
   "cell_type": "code",
   "execution_count": 16,
   "id": "9a6873a6",
   "metadata": {},
   "outputs": [
    {
     "data": {
      "text/plain": [
       "array([6., 7., 5., 3., 1., 8., 9., 0., 2.], dtype=float32)"
      ]
     },
     "execution_count": 16,
     "metadata": {},
     "output_type": "execute_result"
    }
   ],
   "source": [
    "x"
   ]
  },
  {
   "cell_type": "code",
   "execution_count": 17,
   "id": "51b41d53",
   "metadata": {},
   "outputs": [
    {
     "data": {
      "text/plain": [
       "3.0"
      ]
     },
     "execution_count": 17,
     "metadata": {},
     "output_type": "execute_result"
    }
   ],
   "source": [
    "x[3]"
   ]
  },
  {
   "cell_type": "code",
   "execution_count": 18,
   "id": "b653170f",
   "metadata": {},
   "outputs": [
    {
     "data": {
      "text/plain": [
       "9.0"
      ]
     },
     "execution_count": 18,
     "metadata": {},
     "output_type": "execute_result"
    }
   ],
   "source": [
    "x[6]"
   ]
  },
  {
   "cell_type": "code",
   "execution_count": 19,
   "id": "58265cdb",
   "metadata": {},
   "outputs": [],
   "source": [
    "x = np.array([6, 7, 5, 3, 1, 8.6, 9, 0, 2])"
   ]
  },
  {
   "cell_type": "code",
   "execution_count": 20,
   "id": "c3d89f5a",
   "metadata": {},
   "outputs": [
    {
     "data": {
      "text/plain": [
       "dtype('float64')"
      ]
     },
     "execution_count": 20,
     "metadata": {},
     "output_type": "execute_result"
    }
   ],
   "source": [
    "x.dtype"
   ]
  },
  {
   "cell_type": "code",
   "execution_count": 21,
   "id": "316fe024",
   "metadata": {},
   "outputs": [
    {
     "data": {
      "text/plain": [
       "array([6. , 7. , 5. , 3. , 1. , 8.6, 9. , 0. , 2. ])"
      ]
     },
     "execution_count": 21,
     "metadata": {},
     "output_type": "execute_result"
    }
   ],
   "source": [
    "x"
   ]
  },
  {
   "cell_type": "code",
   "execution_count": 22,
   "id": "96d2dbf0",
   "metadata": {},
   "outputs": [],
   "source": [
    "x = np.array([6, 7, 5, 3, 1, 8.6, 9, 0, 'hello'])"
   ]
  },
  {
   "cell_type": "code",
   "execution_count": 23,
   "id": "6f60cc50",
   "metadata": {},
   "outputs": [
    {
     "data": {
      "text/plain": [
       "array(['6', '7', '5', '3', '1', '8.6', '9', '0', 'hello'], dtype='<U32')"
      ]
     },
     "execution_count": 23,
     "metadata": {},
     "output_type": "execute_result"
    }
   ],
   "source": [
    "x"
   ]
  },
  {
   "cell_type": "code",
   "execution_count": 24,
   "id": "82d83b2b",
   "metadata": {},
   "outputs": [
    {
     "data": {
      "text/plain": [
       "dtype('<U32')"
      ]
     },
     "execution_count": 24,
     "metadata": {},
     "output_type": "execute_result"
    }
   ],
   "source": [
    "x.dtype"
   ]
  },
  {
   "cell_type": "code",
   "execution_count": 25,
   "id": "71084931",
   "metadata": {},
   "outputs": [
    {
     "data": {
      "text/plain": [
       "array([ 1,  2,  3,  4,  5,  6,  7,  8,  9, 10])"
      ]
     },
     "execution_count": 25,
     "metadata": {},
     "output_type": "execute_result"
    }
   ],
   "source": [
    "x = np.arange(1,11)\n",
    "x"
   ]
  },
  {
   "cell_type": "code",
   "execution_count": 26,
   "id": "7dbaa25d",
   "metadata": {},
   "outputs": [],
   "source": [
    "x = np.arange(1,11,0.5)"
   ]
  },
  {
   "cell_type": "code",
   "execution_count": 27,
   "id": "8b16bc7f",
   "metadata": {},
   "outputs": [
    {
     "data": {
      "text/plain": [
       "array([ 1. ,  1.5,  2. ,  2.5,  3. ,  3.5,  4. ,  4.5,  5. ,  5.5,  6. ,\n",
       "        6.5,  7. ,  7.5,  8. ,  8.5,  9. ,  9.5, 10. , 10.5])"
      ]
     },
     "execution_count": 27,
     "metadata": {},
     "output_type": "execute_result"
    }
   ],
   "source": [
    "x"
   ]
  },
  {
   "cell_type": "code",
   "execution_count": 34,
   "id": "fbf4a7d8",
   "metadata": {},
   "outputs": [
    {
     "data": {
      "text/plain": [
       "array([ 1.   ,  1.052,  1.104,  1.156,  1.208,  1.26 ,  1.312,  1.364,\n",
       "        1.416,  1.468,  1.52 ,  1.572,  1.624,  1.676,  1.728,  1.78 ,\n",
       "        1.832,  1.884,  1.936,  1.988,  2.04 ,  2.092,  2.144,  2.196,\n",
       "        2.248,  2.3  ,  2.352,  2.404,  2.456,  2.508,  2.56 ,  2.612,\n",
       "        2.664,  2.716,  2.768,  2.82 ,  2.872,  2.924,  2.976,  3.028,\n",
       "        3.08 ,  3.132,  3.184,  3.236,  3.288,  3.34 ,  3.392,  3.444,\n",
       "        3.496,  3.548,  3.6  ,  3.652,  3.704,  3.756,  3.808,  3.86 ,\n",
       "        3.912,  3.964,  4.016,  4.068,  4.12 ,  4.172,  4.224,  4.276,\n",
       "        4.328,  4.38 ,  4.432,  4.484,  4.536,  4.588,  4.64 ,  4.692,\n",
       "        4.744,  4.796,  4.848,  4.9  ,  4.952,  5.004,  5.056,  5.108,\n",
       "        5.16 ,  5.212,  5.264,  5.316,  5.368,  5.42 ,  5.472,  5.524,\n",
       "        5.576,  5.628,  5.68 ,  5.732,  5.784,  5.836,  5.888,  5.94 ,\n",
       "        5.992,  6.044,  6.096,  6.148,  6.2  ,  6.252,  6.304,  6.356,\n",
       "        6.408,  6.46 ,  6.512,  6.564,  6.616,  6.668,  6.72 ,  6.772,\n",
       "        6.824,  6.876,  6.928,  6.98 ,  7.032,  7.084,  7.136,  7.188,\n",
       "        7.24 ,  7.292,  7.344,  7.396,  7.448,  7.5  ,  7.552,  7.604,\n",
       "        7.656,  7.708,  7.76 ,  7.812,  7.864,  7.916,  7.968,  8.02 ,\n",
       "        8.072,  8.124,  8.176,  8.228,  8.28 ,  8.332,  8.384,  8.436,\n",
       "        8.488,  8.54 ,  8.592,  8.644,  8.696,  8.748,  8.8  ,  8.852,\n",
       "        8.904,  8.956,  9.008,  9.06 ,  9.112,  9.164,  9.216,  9.268,\n",
       "        9.32 ,  9.372,  9.424,  9.476,  9.528,  9.58 ,  9.632,  9.684,\n",
       "        9.736,  9.788,  9.84 ,  9.892,  9.944,  9.996, 10.048, 10.1  ,\n",
       "       10.152, 10.204, 10.256, 10.308, 10.36 , 10.412, 10.464, 10.516,\n",
       "       10.568, 10.62 , 10.672, 10.724, 10.776, 10.828, 10.88 , 10.932,\n",
       "       10.984])"
      ]
     },
     "execution_count": 34,
     "metadata": {},
     "output_type": "execute_result"
    }
   ],
   "source": [
    "np.arange(1,11,0.052)"
   ]
  },
  {
   "cell_type": "code",
   "execution_count": 29,
   "id": "e295dfb3",
   "metadata": {},
   "outputs": [],
   "source": [
    "x = np.array([4,6,5,7,8,9])"
   ]
  },
  {
   "cell_type": "code",
   "execution_count": 30,
   "id": "ba76a54c",
   "metadata": {},
   "outputs": [
    {
     "data": {
      "text/plain": [
       "array([ 8, 12, 10, 14, 16, 18])"
      ]
     },
     "execution_count": 30,
     "metadata": {},
     "output_type": "execute_result"
    }
   ],
   "source": [
    "x * 2"
   ]
  },
  {
   "cell_type": "code",
   "execution_count": 31,
   "id": "34926434",
   "metadata": {},
   "outputs": [
    {
     "data": {
      "text/plain": [
       "[4, 6, 5, 7, 8, 9, 4, 6, 5, 7, 8, 9]"
      ]
     },
     "execution_count": 31,
     "metadata": {},
     "output_type": "execute_result"
    }
   ],
   "source": [
    "y = [4,6,5,7,8,9]\n",
    "y * 2"
   ]
  },
  {
   "cell_type": "code",
   "execution_count": 32,
   "id": "c9012a9e",
   "metadata": {},
   "outputs": [
    {
     "data": {
      "text/plain": [
       "array([14, 16, 15, 17, 18, 19])"
      ]
     },
     "execution_count": 32,
     "metadata": {},
     "output_type": "execute_result"
    }
   ],
   "source": [
    "x + 10"
   ]
  },
  {
   "cell_type": "code",
   "execution_count": 35,
   "id": "f90c53a6",
   "metadata": {},
   "outputs": [],
   "source": [
    "x = np.array([[3,4,5],[7,8,9]])"
   ]
  },
  {
   "cell_type": "code",
   "execution_count": 36,
   "id": "c4df6eff",
   "metadata": {},
   "outputs": [
    {
     "data": {
      "text/plain": [
       "array([[3, 4, 5],\n",
       "       [7, 8, 9]])"
      ]
     },
     "execution_count": 36,
     "metadata": {},
     "output_type": "execute_result"
    }
   ],
   "source": [
    "x"
   ]
  },
  {
   "cell_type": "code",
   "execution_count": 37,
   "id": "2ad15953",
   "metadata": {},
   "outputs": [
    {
     "data": {
      "text/plain": [
       "6"
      ]
     },
     "execution_count": 37,
     "metadata": {},
     "output_type": "execute_result"
    }
   ],
   "source": [
    "x.size"
   ]
  },
  {
   "cell_type": "code",
   "execution_count": 38,
   "id": "16017c7a",
   "metadata": {},
   "outputs": [
    {
     "data": {
      "text/plain": [
       "(2, 3)"
      ]
     },
     "execution_count": 38,
     "metadata": {},
     "output_type": "execute_result"
    }
   ],
   "source": [
    "x.shape"
   ]
  },
  {
   "cell_type": "code",
   "execution_count": 39,
   "id": "9389c86a",
   "metadata": {},
   "outputs": [
    {
     "data": {
      "text/plain": [
       "array([[3, 4],\n",
       "       [5, 7],\n",
       "       [8, 9]])"
      ]
     },
     "execution_count": 39,
     "metadata": {},
     "output_type": "execute_result"
    }
   ],
   "source": [
    "x.reshape(3,2)"
   ]
  },
  {
   "cell_type": "code",
   "execution_count": 41,
   "id": "92e1ea42",
   "metadata": {},
   "outputs": [],
   "source": [
    "x = x.flatten()"
   ]
  },
  {
   "cell_type": "code",
   "execution_count": 42,
   "id": "4ae269ff",
   "metadata": {},
   "outputs": [
    {
     "data": {
      "text/plain": [
       "array([3, 4, 5, 7, 8, 9])"
      ]
     },
     "execution_count": 42,
     "metadata": {},
     "output_type": "execute_result"
    }
   ],
   "source": [
    "x"
   ]
  },
  {
   "cell_type": "code",
   "execution_count": 43,
   "id": "347935cd",
   "metadata": {},
   "outputs": [
    {
     "data": {
      "text/plain": [
       "3"
      ]
     },
     "execution_count": 43,
     "metadata": {},
     "output_type": "execute_result"
    }
   ],
   "source": [
    "x.min()"
   ]
  },
  {
   "cell_type": "code",
   "execution_count": 44,
   "id": "eca9e246",
   "metadata": {},
   "outputs": [
    {
     "data": {
      "text/plain": [
       "6.0"
      ]
     },
     "execution_count": 44,
     "metadata": {},
     "output_type": "execute_result"
    }
   ],
   "source": [
    "x.mean()"
   ]
  },
  {
   "cell_type": "code",
   "execution_count": 46,
   "id": "16628fec",
   "metadata": {},
   "outputs": [
    {
     "data": {
      "text/plain": [
       "9"
      ]
     },
     "execution_count": 46,
     "metadata": {},
     "output_type": "execute_result"
    }
   ],
   "source": [
    "x.max()"
   ]
  },
  {
   "cell_type": "code",
   "execution_count": 47,
   "id": "b80ae354",
   "metadata": {},
   "outputs": [],
   "source": [
    "x.sort()"
   ]
  },
  {
   "cell_type": "code",
   "execution_count": 48,
   "id": "59ad6ab5",
   "metadata": {},
   "outputs": [
    {
     "data": {
      "text/plain": [
       "array([3, 4, 5, 7, 8, 9])"
      ]
     },
     "execution_count": 48,
     "metadata": {},
     "output_type": "execute_result"
    }
   ],
   "source": [
    "x"
   ]
  },
  {
   "cell_type": "code",
   "execution_count": null,
   "id": "499166c7",
   "metadata": {},
   "outputs": [],
   "source": []
  }
 ],
 "metadata": {
  "kernelspec": {
   "display_name": "Python 3",
   "language": "python",
   "name": "python3"
  },
  "language_info": {
   "codemirror_mode": {
    "name": "ipython",
    "version": 3
   },
   "file_extension": ".py",
   "mimetype": "text/x-python",
   "name": "python",
   "nbconvert_exporter": "python",
   "pygments_lexer": "ipython3",
   "version": "3.8.10"
  }
 },
 "nbformat": 4,
 "nbformat_minor": 5
}
